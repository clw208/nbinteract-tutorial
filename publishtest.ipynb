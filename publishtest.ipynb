{
 "cells": [
  {
   "cell_type": "code",
   "execution_count": 14,
   "metadata": {},
   "outputs": [],
   "source": [
    "#HIDDEN\n",
    "from ipywidgets import widgets, interact, Dropdown,SelectMultiple\n",
    "from IPython.display import display\n",
    "import numpy as np\n",
    "import pandas as pd\n",
    "import re\n",
    "import os\n",
    "import pickle\n",
    "# input files from other python scripts\n",
    "data_python = os.path.join('..', 'website_test')\n",
    "data_out = os.path.join('..', 'website_test')\n",
    "data_dir = os.path.join('..', 'website_test')"
   ]
  },
  {
   "cell_type": "code",
   "execution_count": 15,
   "metadata": {},
   "outputs": [],
   "source": [
    "#HIDDEN\n",
    "# choose the month for optimization\n",
    "mnths = {'jan':1,'feb':2,'mar':3,'apr':4,'may':5,'jun':6,'jul':7,'aug':8,'sep':9,'oct':10,'nov':11,'dec':12}\n",
    "cntry = np.load('trandict.npy',allow_pickle='TRUE').item()\n",
    "var2 = widgets.Dropdown(options = mnths.keys(),value='aug')\n",
    "var1 = widgets.Dropdown(options = cntry.keys(),value='CH')"
   ]
  },
  {
   "cell_type": "code",
   "execution_count": 16,
   "metadata": {},
   "outputs": [
    {
     "data": {
      "application/vnd.jupyter.widget-view+json": {
       "model_id": "3b7b36a9773f41e08996fc48e07b09c7",
       "version_major": 2,
       "version_minor": 0
      },
      "text/plain": [
       "Dropdown(index=26, options=('AW', 'AO', 'AI', 'AL', 'AD', 'AR', 'AS', 'AG', 'AU', 'AT', 'BI', 'BE', 'BJ', 'BF'…"
      ]
     },
     "metadata": {},
     "output_type": "display_data"
    }
   ],
   "source": [
    "display(var1)"
   ]
  },
  {
   "cell_type": "code",
   "execution_count": 17,
   "metadata": {},
   "outputs": [
    {
     "data": {
      "application/vnd.jupyter.widget-view+json": {
       "model_id": "7523251f53a14242a3a1f76821547375",
       "version_major": 2,
       "version_minor": 0
      },
      "text/plain": [
       "Dropdown(index=7, options=('jan', 'feb', 'mar', 'apr', 'may', 'jun', 'jul', 'aug', 'sep', 'oct', 'nov', 'dec')…"
      ]
     },
     "metadata": {},
     "output_type": "display_data"
    }
   ],
   "source": [
    "display(var2)"
   ]
  },
  {
   "cell_type": "code",
   "execution_count": 20,
   "metadata": {},
   "outputs": [],
   "source": [
    "#HIDDEN\n",
    "runcode = widgets.Button(description='Build Database')\n",
    "output = widgets.Output()\n",
    "#display(runcode,output)\n",
    "def on_button_clicked(b):\n",
    "    #global dataframe\n",
    "    #%run Build_Optimization_Database.ipynb\n",
    "    dataframe = pd.DataFrame([0,1],columns=['a'])\n",
    "    %run readother.ipynb\n",
    "    #dataframe = calc_impacts(var1.value,var2.value).copy()\n",
    "    dataframe = pd.DataFrame([0,1],columns=['a'])\n",
    "    with output: \n",
    "        print('Building the database for your country and season')\n",
    "        display(dataframe.head(2))\n",
    "        #display(df100)\n",
    "    return #df100"
   ]
  },
  {
   "cell_type": "code",
   "execution_count": 21,
   "metadata": {
    "scrolled": true
   },
   "outputs": [
    {
     "data": {
      "application/vnd.jupyter.widget-view+json": {
       "model_id": "0358e9802ca7467eaf7430687717abf8",
       "version_major": 2,
       "version_minor": 0
      },
      "text/plain": [
       "Button(description='Build Database', style=ButtonStyle())"
      ]
     },
     "metadata": {},
     "output_type": "display_data"
    },
    {
     "data": {
      "application/vnd.jupyter.widget-view+json": {
       "model_id": "ad9a9bfca50f4bf5b55c10b03b2d2258",
       "version_major": 2,
       "version_minor": 0
      },
      "text/plain": [
       "Output()"
      ]
     },
     "metadata": {},
     "output_type": "display_data"
    },
    {
     "name": "stdout",
     "output_type": "stream",
     "text": [
      "i am at the end\n"
     ]
    }
   ],
   "source": [
    "display(runcode,output)\n",
    "runcode.on_click(on_button_clicked)"
   ]
  },
  {
   "cell_type": "code",
   "execution_count": 7,
   "metadata": {},
   "outputs": [],
   "source": [
    "# HIDDEN\n",
    "style = {'description_width': 'initial'}"
   ]
  },
  {
   "cell_type": "code",
   "execution_count": 8,
   "metadata": {},
   "outputs": [],
   "source": [
    "# HIDDEN\n",
    "# variables to support the interactive dropdowns below\n",
    "gender={'female':1,'male':0}\n",
    "preferences = {'vegetarian':0,'vegan':1,'none':2}\n",
    "indicator = {'climate change':'GHG','biodiversity loss':'BIO','both':'any'}\n",
    "activity = {'sedentary':0,'moderate':1,'vigorous':2}\n",
    "supp = {'yes':'yes_sup','no':'no_sup'}\n",
    "weighting = {'climate change':0,'biodiversity loss':0,'both':0.5}\n",
    "def weighting(impact):\n",
    "    if impact == 'GHG' or 'BIO': w = 0\n",
    "    elif impact == 'both':w = 0.5\n",
    "    else: w = 0\n",
    "    return w"
   ]
  },
  {
   "cell_type": "code",
   "execution_count": 9,
   "metadata": {},
   "outputs": [],
   "source": [
    "# HIDDEN\n",
    "imp = widgets.Dropdown(options=indicator.values(),description='Impact')\n",
    "gen = widgets.Dropdown(options=gender.values(),description='Gender:')\n",
    "weight = widgets.IntText(description='Weight (kg):',value=60)\n",
    "height = widgets.IntText(description='Height (cm):',value=165)\n",
    "age = widgets.IntText(description='Age (yrs):',value=40)\n",
    "act = widgets.Dropdown(options=activity.keys(),description='Activity Level:',value='moderate')\n",
    "sup = widgets.Dropdown(options=supp.values(),description='Supplements?',style=style)\n",
    "days = widgets.BoundedIntText(description='Number of Days:',style=style,value=7)\n",
    "diettype = widgets.Dropdown(options=preferences.keys(),description='Dietary Preferences:',style=style,value='none')"
   ]
  },
  {
   "cell_type": "code",
   "execution_count": 10,
   "metadata": {},
   "outputs": [
    {
     "data": {
      "application/vnd.jupyter.widget-view+json": {
       "model_id": "b714e47c5a924222a20ea44ca83a6147",
       "version_major": 2,
       "version_minor": 0
      },
      "text/plain": [
       "Dropdown(description='Impact', options=('GHG', 'BIO', 'any'), value='GHG')"
      ]
     },
     "metadata": {},
     "output_type": "display_data"
    },
    {
     "data": {
      "application/vnd.jupyter.widget-view+json": {
       "model_id": "8db16c988b1848ff9623a5bc318274b1",
       "version_major": 2,
       "version_minor": 0
      },
      "text/plain": [
       "Dropdown(description='Gender:', options=(1, 0), value=1)"
      ]
     },
     "metadata": {},
     "output_type": "display_data"
    },
    {
     "data": {
      "application/vnd.jupyter.widget-view+json": {
       "model_id": "03124300fb3748c7af47dae22742f64b",
       "version_major": 2,
       "version_minor": 0
      },
      "text/plain": [
       "IntText(value=60, description='Weight (kg):')"
      ]
     },
     "metadata": {},
     "output_type": "display_data"
    },
    {
     "data": {
      "application/vnd.jupyter.widget-view+json": {
       "model_id": "ad7f6d36de854b1280d950d789dfc94d",
       "version_major": 2,
       "version_minor": 0
      },
      "text/plain": [
       "IntText(value=165, description='Height (cm):')"
      ]
     },
     "metadata": {},
     "output_type": "display_data"
    },
    {
     "data": {
      "application/vnd.jupyter.widget-view+json": {
       "model_id": "dba1dc019d9542acac5c5aeae4747f17",
       "version_major": 2,
       "version_minor": 0
      },
      "text/plain": [
       "IntText(value=40, description='Age (yrs):')"
      ]
     },
     "metadata": {},
     "output_type": "display_data"
    },
    {
     "data": {
      "application/vnd.jupyter.widget-view+json": {
       "model_id": "b9519983130b4f138ce9bb76b6778ef5",
       "version_major": 2,
       "version_minor": 0
      },
      "text/plain": [
       "Dropdown(description='Activity Level:', index=1, options=('sedentary', 'moderate', 'vigorous'), value='moderat…"
      ]
     },
     "metadata": {},
     "output_type": "display_data"
    },
    {
     "data": {
      "application/vnd.jupyter.widget-view+json": {
       "model_id": "ab0255b83ee54d22afd102e875ea85a2",
       "version_major": 2,
       "version_minor": 0
      },
      "text/plain": [
       "Dropdown(description='Supplements?', options=('yes_sup', 'no_sup'), style=DescriptionStyle(description_width='…"
      ]
     },
     "metadata": {},
     "output_type": "display_data"
    },
    {
     "data": {
      "application/vnd.jupyter.widget-view+json": {
       "model_id": "905f9009b2784dd98d529b5e056f63d0",
       "version_major": 2,
       "version_minor": 0
      },
      "text/plain": [
       "BoundedIntText(value=7, description='Number of Days:', style=DescriptionStyle(description_width='initial'))"
      ]
     },
     "metadata": {},
     "output_type": "display_data"
    },
    {
     "data": {
      "application/vnd.jupyter.widget-view+json": {
       "model_id": "2257905c0f394002bf5205b1ea9e7c71",
       "version_major": 2,
       "version_minor": 0
      },
      "text/plain": [
       "Dropdown(description='Dietary Preferences:', index=2, options=('vegetarian', 'vegan', 'none'), style=Descripti…"
      ]
     },
     "metadata": {},
     "output_type": "display_data"
    }
   ],
   "source": [
    "display(imp)\n",
    "display(gen)\n",
    "display(weight)\n",
    "display(height)\n",
    "display(age)\n",
    "display(act)\n",
    "display(sup)\n",
    "display(days)\n",
    "display(diettype)"
   ]
  },
  {
   "cell_type": "code",
   "execution_count": 28,
   "metadata": {},
   "outputs": [],
   "source": [
    "runcode2 = widgets.Button(description='print')\n",
    "output2 = widgets.Output()\n",
    "#display(runcode,output)\n",
    "def test(b):\n",
    "    print (diettype.value,days.value)\n",
    "    with output: \n",
    "        print('Optimizing your diet')\n",
    "        print (diettype.value)\n",
    "        #display(df100)\n",
    "    return "
   ]
  },
  {
   "cell_type": "code",
   "execution_count": 30,
   "metadata": {},
   "outputs": [
    {
     "data": {
      "application/vnd.jupyter.widget-view+json": {
       "model_id": "08166f1d26054dae83354b0a41b5078c",
       "version_major": 2,
       "version_minor": 0
      },
      "text/plain": [
       "Button(description='print', style=ButtonStyle())"
      ]
     },
     "metadata": {},
     "output_type": "display_data"
    },
    {
     "data": {
      "application/vnd.jupyter.widget-view+json": {
       "model_id": "ac8830729e764d669a0e03c9e555a602",
       "version_major": 2,
       "version_minor": 0
      },
      "text/plain": [
       "Output()"
      ]
     },
     "metadata": {},
     "output_type": "display_data"
    },
    {
     "name": "stdout",
     "output_type": "stream",
     "text": [
      "none 6\n"
     ]
    }
   ],
   "source": [
    "display(runcode2,output2)\n",
    "runcode2.on_click(test)"
   ]
  },
  {
   "cell_type": "code",
   "execution_count": 11,
   "metadata": {},
   "outputs": [],
   "source": [
    "# HIDDEN\n",
    "var10 = diettype.value\n",
    "var9 = days.value\n",
    "var4 = weight.value\n",
    "var5 = height.value\n",
    "var6 = age.value\n",
    "var7 = act.value\n",
    "var8 = imp.value\n",
    "var11 = sup.value\n",
    "var12 = weighting(imp.value)\n",
    "var3 = gen.value"
   ]
  },
  {
   "cell_type": "code",
   "execution_count": 12,
   "metadata": {},
   "outputs": [],
   "source": [
    "#HIDDEN\n",
    "runcode2 = widgets.Button(description='Calculate Diet')\n",
    "output2 = widgets.Output()\n",
    "#display(runcode,output)\n",
    "def person_diets(b):\n",
    "    global r1,r2,r3,r4,r5\n",
    "    %run Optimization_Tool_Online.ipynb\n",
    "    r1,r2,r3,r4,r5 = testopt(dataframe,var8,'yes',var3,var4,var5,var6,var7,\\\n",
    "                             var1.value,var2.value,var9,var10,2,var11,var12,0,0)\n",
    "    with output: \n",
    "        print('Optimizing your diet')\n",
    "        #display(df100)\n",
    "    return "
   ]
  },
  {
   "cell_type": "markdown",
   "metadata": {},
   "source": [
    "display(runcode2,output2)\n",
    "runcode2.on_click(person_diets)"
   ]
  }
 ],
 "metadata": {
  "kernelspec": {
   "display_name": "Python [conda env:new_environment]",
   "language": "python",
   "name": "conda-env-new_environment-py"
  },
  "language_info": {
   "codemirror_mode": {
    "name": "ipython",
    "version": 3
   },
   "file_extension": ".py",
   "mimetype": "text/x-python",
   "name": "python",
   "nbconvert_exporter": "python",
   "pygments_lexer": "ipython3",
   "version": "3.6.4"
  }
 },
 "nbformat": 4,
 "nbformat_minor": 2
}
