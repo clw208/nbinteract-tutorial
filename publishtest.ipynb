{
 "cells": [
  {
   "cell_type": "code",
   "execution_count": 31,
   "metadata": {},
   "outputs": [],
   "source": [
    "#HIDDEN\n",
    "from ipywidgets import widgets, interact, Dropdown,SelectMultiple\n",
    "from IPython.display import display\n",
    "import numpy as np\n",
    "import pandas as pd\n",
    "import re\n",
    "import os\n",
    "import pickle\n",
    "# input files from other python scripts\n",
    "data_python = os.path.join('..', 'website_test')\n",
    "data_out = os.path.join('..', 'website_test')\n",
    "data_dir = os.path.join('..', 'website_test')"
   ]
  },
  {
   "cell_type": "code",
<<<<<<< HEAD
   "execution_count": 2,
=======
   "execution_count": 32,
>>>>>>> ec4df56c6ce83102e82b944627f3a361ecb6e92a
   "metadata": {},
   "outputs": [],
   "source": [
    "#HIDDEN\n",
    "# choose the month for optimization\n",
    "mnths = {'jan':1,'feb':2,'mar':3,'apr':4,'may':5,'jun':6,'jul':7,'aug':8,'sep':9,'oct':10,'nov':11,'dec':12}\n",
    "cntry = np.load('trandict.npy',allow_pickle='TRUE').item()\n",
    "var2 = widgets.Dropdown(options = mnths.keys(),value='aug')\n",
    "var1 = widgets.Dropdown(options = cntry.keys(),value='CH')"
   ]
  },
  {
   "cell_type": "code",
<<<<<<< HEAD
   "execution_count": 3,
=======
   "execution_count": 33,
>>>>>>> ec4df56c6ce83102e82b944627f3a361ecb6e92a
   "metadata": {},
   "outputs": [
    {
     "data": {
      "application/vnd.jupyter.widget-view+json": {
<<<<<<< HEAD
       "model_id": "5914f9bf3e4548f29a4bcc1335c655ca",
=======
       "model_id": "906e96f212074c268a586956658b8e7c",
>>>>>>> ec4df56c6ce83102e82b944627f3a361ecb6e92a
       "version_major": 2,
       "version_minor": 0
      },
      "text/plain": [
       "Dropdown(index=26, options=('AW', 'AO', 'AI', 'AL', 'AD', 'AR', 'AS', 'AG', 'AU', 'AT', 'BI', 'BE', 'BJ', 'BF'…"
      ]
     },
     "metadata": {},
     "output_type": "display_data"
    }
   ],
   "source": [
    "display(var1)"
   ]
  },
  {
   "cell_type": "code",
<<<<<<< HEAD
   "execution_count": 4,
=======
   "execution_count": 34,
>>>>>>> ec4df56c6ce83102e82b944627f3a361ecb6e92a
   "metadata": {},
   "outputs": [
    {
     "data": {
      "application/vnd.jupyter.widget-view+json": {
<<<<<<< HEAD
       "model_id": "decb45050d264824953d38ce68a004b7",
=======
       "model_id": "9b185f89faa7430884d5bfd54f3ab65d",
>>>>>>> ec4df56c6ce83102e82b944627f3a361ecb6e92a
       "version_major": 2,
       "version_minor": 0
      },
      "text/plain": [
       "Dropdown(index=7, options=('jan', 'feb', 'mar', 'apr', 'may', 'jun', 'jul', 'aug', 'sep', 'oct', 'nov', 'dec')…"
      ]
     },
     "metadata": {},
     "output_type": "display_data"
    }
   ],
   "source": [
    "display(var2)"
   ]
  },
  {
   "cell_type": "code",
<<<<<<< HEAD
   "execution_count": 5,
=======
   "execution_count": 35,
>>>>>>> ec4df56c6ce83102e82b944627f3a361ecb6e92a
   "metadata": {},
   "outputs": [],
   "source": [
    "runcode = widgets.Button(description='test input')\n",
    "output = widgets.Output()\n",
    "#display(runcode,output)\n",
    "def on_button_clicked(b):\n",
<<<<<<< HEAD
    "    print (var1.value,var2.value)\n",
    "    with output: \n",
    "        print('the values are:',var1.value,var2.value)\n",
=======
    "    #global dataframe\n",
    "    #%run Build_Optimization_Database.ipynb\n",
    "    dataframe = pd.DataFrame([0,1],columns=['a'])\n",
    "    %run readother.ipynb\n",
    "    #dataframe = calc_impacts(var1.value,var2.value).copy()\n",
    "    dataframe = pd.DataFrame([0,1],columns=['a'])\n",
    "    with output: \n",
    "        print('Building the database for your country and season')\n",
    "        display(dataframe.head(2))\n",
>>>>>>> ec4df56c6ce83102e82b944627f3a361ecb6e92a
    "        #display(df100)\n",
    "    return #df100"
   ]
  },
  {
   "cell_type": "code",
<<<<<<< HEAD
   "execution_count": 6,
=======
   "execution_count": 36,
>>>>>>> ec4df56c6ce83102e82b944627f3a361ecb6e92a
   "metadata": {
    "scrolled": true
   },
   "outputs": [
    {
     "data": {
      "application/vnd.jupyter.widget-view+json": {
<<<<<<< HEAD
       "model_id": "1170453ab56c4fa883832850a583f898",
=======
       "model_id": "23433a97bd3446dca595407e55d696cf",
>>>>>>> ec4df56c6ce83102e82b944627f3a361ecb6e92a
       "version_major": 2,
       "version_minor": 0
      },
      "text/plain": [
       "Button(description='test input', style=ButtonStyle())"
      ]
     },
     "metadata": {},
     "output_type": "display_data"
    },
    {
     "data": {
      "application/vnd.jupyter.widget-view+json": {
<<<<<<< HEAD
       "model_id": "50e6c7b6514c4b6e87fb2c8ba6be8e0d",
=======
       "model_id": "ab785033f074468cace1b3423ebabee8",
>>>>>>> ec4df56c6ce83102e82b944627f3a361ecb6e92a
       "version_major": 2,
       "version_minor": 0
      },
      "text/plain": [
       "Output()"
      ]
     },
     "metadata": {},
     "output_type": "display_data"
    },
    {
     "name": "stdout",
     "output_type": "stream",
     "text": [
<<<<<<< HEAD
      "CH aug\n"
=======
      "i am at the end\n"
>>>>>>> ec4df56c6ce83102e82b944627f3a361ecb6e92a
     ]
    }
   ],
   "source": [
    "display(runcode,output)\n",
    "runcode.on_click(on_button_clicked)"
   ]
  },
  {
   "cell_type": "code",
<<<<<<< HEAD
   "execution_count": 7,
   "metadata": {},
   "outputs": [
    {
     "ename": "NameError",
     "evalue": "name 'stop' is not defined",
     "output_type": "error",
     "traceback": [
      "\u001b[0;31m---------------------------------------------------------------------------\u001b[0m",
      "\u001b[0;31mNameError\u001b[0m                                 Traceback (most recent call last)",
      "\u001b[0;32m<ipython-input-7-4f76a9dad686>\u001b[0m in \u001b[0;36m<module>\u001b[0;34m()\u001b[0m\n\u001b[0;32m----> 1\u001b[0;31m \u001b[0mstop\u001b[0m\u001b[0;34m\u001b[0m\u001b[0m\n\u001b[0m",
      "\u001b[0;31mNameError\u001b[0m: name 'stop' is not defined"
     ]
    }
   ],
   "source": [
    "stop"
   ]
  },
  {
   "cell_type": "code",
   "execution_count": null,
   "metadata": {},
   "outputs": [],
   "source": [
    "#HIDDEN\n",
    "runcode = widgets.Button(description='Build Database')\n",
    "output = widgets.Output()\n",
    "#display(runcode,output)\n",
    "def on_button_clicked(b):\n",
    "    global dataframe\n",
    "    %run Build_Optimization_Database.ipynb\n",
    "    dataframe = calc_impacts(var1.value,var2.value).copy() \n",
    "    with output: \n",
    "        print('Building the database for your country and season')\n",
    "        #display(df100)\n",
    "    return #df100"
   ]
  },
  {
   "cell_type": "code",
   "execution_count": null,
=======
   "execution_count": 37,
>>>>>>> ec4df56c6ce83102e82b944627f3a361ecb6e92a
   "metadata": {},
   "outputs": [],
   "source": [
    "# HIDDEN\n",
    "style = {'description_width': 'initial'}"
   ]
  },
  {
   "cell_type": "code",
<<<<<<< HEAD
   "execution_count": null,
=======
   "execution_count": 38,
>>>>>>> ec4df56c6ce83102e82b944627f3a361ecb6e92a
   "metadata": {},
   "outputs": [],
   "source": [
    "# HIDDEN\n",
    "# variables to support the interactive dropdowns below\n",
    "gender={'female':1,'male':0}\n",
    "preferences = {'vegetarian':0,'vegan':1,'none':2}\n",
    "indicator = {'climate change':'GHG','biodiversity loss':'BIO','both':'any'}\n",
    "activity = {'sedentary':0,'moderate':1,'vigorous':2}\n",
    "supp = {'yes':'yes_sup','no':'no_sup'}\n",
    "weighting = {'climate change':0,'biodiversity loss':0,'both':0.5}\n",
    "def weighting(impact):\n",
    "    if impact == 'GHG' or 'BIO': w = 0\n",
    "    elif impact == 'both':w = 0.5\n",
    "    else: w = 0\n",
    "    return w"
   ]
  },
  {
   "cell_type": "code",
<<<<<<< HEAD
   "execution_count": null,
=======
   "execution_count": 39,
>>>>>>> ec4df56c6ce83102e82b944627f3a361ecb6e92a
   "metadata": {},
   "outputs": [],
   "source": [
    "# HIDDEN\n",
    "imp = widgets.Dropdown(options=indicator.values(),description='Impact')\n",
    "gen = widgets.Dropdown(options=gender.values(),description='Gender:')\n",
    "weight = widgets.IntText(description='Weight (kg):',value=60)\n",
    "height = widgets.IntText(description='Height (cm):',value=165)\n",
    "age = widgets.IntText(description='Age (yrs):',value=40)\n",
    "act = widgets.Dropdown(options=activity.keys(),description='Activity Level:',value='moderate')\n",
    "sup = widgets.Dropdown(options=supp.values(),description='Supplements?',style=style)\n",
    "days = widgets.BoundedIntText(description='Number of Days:',style=style,value=7)\n",
    "diettype = widgets.Dropdown(options=preferences.keys(),description='Dietary Preferences:',style=style,value='none')"
   ]
  },
  {
   "cell_type": "code",
<<<<<<< HEAD
   "execution_count": null,
   "metadata": {},
   "outputs": [],
=======
   "execution_count": 40,
   "metadata": {},
   "outputs": [
    {
     "data": {
      "application/vnd.jupyter.widget-view+json": {
       "model_id": "01641a7d1c1c42778edd4a9ee5e4cafa",
       "version_major": 2,
       "version_minor": 0
      },
      "text/plain": [
       "Dropdown(description='Impact', options=('GHG', 'BIO', 'any'), value='GHG')"
      ]
     },
     "metadata": {},
     "output_type": "display_data"
    },
    {
     "data": {
      "application/vnd.jupyter.widget-view+json": {
       "model_id": "0878590a5d874ab5941c8167174f1fe0",
       "version_major": 2,
       "version_minor": 0
      },
      "text/plain": [
       "Dropdown(description='Gender:', options=(1, 0), value=1)"
      ]
     },
     "metadata": {},
     "output_type": "display_data"
    },
    {
     "data": {
      "application/vnd.jupyter.widget-view+json": {
       "model_id": "2a6314ec5db04dec9ffca4e4943d0cc5",
       "version_major": 2,
       "version_minor": 0
      },
      "text/plain": [
       "IntText(value=60, description='Weight (kg):')"
      ]
     },
     "metadata": {},
     "output_type": "display_data"
    },
    {
     "data": {
      "application/vnd.jupyter.widget-view+json": {
       "model_id": "6fead1878e9a4fa1b54cfa67949d8baa",
       "version_major": 2,
       "version_minor": 0
      },
      "text/plain": [
       "IntText(value=165, description='Height (cm):')"
      ]
     },
     "metadata": {},
     "output_type": "display_data"
    },
    {
     "data": {
      "application/vnd.jupyter.widget-view+json": {
       "model_id": "9e23e86bc94446d3b46b347ebae84610",
       "version_major": 2,
       "version_minor": 0
      },
      "text/plain": [
       "IntText(value=40, description='Age (yrs):')"
      ]
     },
     "metadata": {},
     "output_type": "display_data"
    },
    {
     "data": {
      "application/vnd.jupyter.widget-view+json": {
       "model_id": "50c59168b31e4b7dac1e722a2372f867",
       "version_major": 2,
       "version_minor": 0
      },
      "text/plain": [
       "Dropdown(description='Activity Level:', index=1, options=('sedentary', 'moderate', 'vigorous'), value='moderat…"
      ]
     },
     "metadata": {},
     "output_type": "display_data"
    },
    {
     "data": {
      "application/vnd.jupyter.widget-view+json": {
       "model_id": "8ae919f88f4c4b5bb7bd5e14d28f78a4",
       "version_major": 2,
       "version_minor": 0
      },
      "text/plain": [
       "Dropdown(description='Supplements?', options=('yes_sup', 'no_sup'), style=DescriptionStyle(description_width='…"
      ]
     },
     "metadata": {},
     "output_type": "display_data"
    },
    {
     "data": {
      "application/vnd.jupyter.widget-view+json": {
       "model_id": "eb58b0843722490db7a2a2b05faca06a",
       "version_major": 2,
       "version_minor": 0
      },
      "text/plain": [
       "BoundedIntText(value=7, description='Number of Days:', style=DescriptionStyle(description_width='initial'))"
      ]
     },
     "metadata": {},
     "output_type": "display_data"
    },
    {
     "data": {
      "application/vnd.jupyter.widget-view+json": {
       "model_id": "246160d9b70d43efbaf18585b687af26",
       "version_major": 2,
       "version_minor": 0
      },
      "text/plain": [
       "Dropdown(description='Dietary Preferences:', index=2, options=('vegetarian', 'vegan', 'none'), style=Descripti…"
      ]
     },
     "metadata": {},
     "output_type": "display_data"
    }
   ],
>>>>>>> ec4df56c6ce83102e82b944627f3a361ecb6e92a
   "source": [
    "display(imp)\n",
    "display(gen)\n",
    "display(weight)\n",
    "display(height)\n",
    "display(age)\n",
    "display(act)\n",
    "display(sup)\n",
    "display(days)\n",
    "display(diettype)"
   ]
  },
  {
   "cell_type": "code",
<<<<<<< HEAD
   "execution_count": null,
   "metadata": {},
   "outputs": [],
   "source": [
    "# HIDDEN\n",
    "var10 = diettype.value\n",
    "var9 = days.value\n",
    "var4 = weight.value\n",
    "var5 = height.value\n",
    "var6 = age.value\n",
    "var7 = act.value\n",
    "var8 = imp.value\n",
    "var11 = sup.value\n",
    "var12 = weighting(imp.value)\n",
    "var3 = gen.value"
   ]
  },
  {
   "cell_type": "code",
   "execution_count": null,
   "metadata": {},
   "outputs": [],
   "source": [
    "#HIDDEN\n",
    "runcode2 = widgets.Button(description='Calculate Diet')\n",
=======
   "execution_count": 41,
   "metadata": {},
   "outputs": [],
   "source": [
    "runcode2 = widgets.Button(description='print')\n",
>>>>>>> ec4df56c6ce83102e82b944627f3a361ecb6e92a
    "output2 = widgets.Output()\n",
    "#display(runcode,output)\n",
    "def test(b):\n",
    "    print (diettype.value,days.value)\n",
    "    with output: \n",
    "        print('Optimizing your diet')\n",
    "        print (diettype.value)\n",
    "        #display(df100)\n",
    "    return "
   ]
  },
  {
   "cell_type": "code",
<<<<<<< HEAD
   "execution_count": null,
   "metadata": {},
   "outputs": [],
=======
   "execution_count": 42,
   "metadata": {},
   "outputs": [
    {
     "data": {
      "application/vnd.jupyter.widget-view+json": {
       "model_id": "d21733435d7a48cf862454ecd15ece7c",
       "version_major": 2,
       "version_minor": 0
      },
      "text/plain": [
       "Button(description='print', style=ButtonStyle())"
      ]
     },
     "metadata": {},
     "output_type": "display_data"
    },
    {
     "data": {
      "application/vnd.jupyter.widget-view+json": {
       "model_id": "ae777ce5f4884e63b03438c36e31ba1c",
       "version_major": 2,
       "version_minor": 0
      },
      "text/plain": [
       "Output()"
      ]
     },
     "metadata": {},
     "output_type": "display_data"
    },
    {
     "name": "stdout",
     "output_type": "stream",
     "text": [
      "none 7\n"
     ]
    }
   ],
>>>>>>> ec4df56c6ce83102e82b944627f3a361ecb6e92a
   "source": [
    "display(runcode2,output2)\n",
    "runcode2.on_click(test)"
   ]
  },
  {
   "cell_type": "code",
   "execution_count": 43,
   "metadata": {},
   "outputs": [],
   "source": [
    "# HIDDEN\n",
    "var10 = diettype.value\n",
    "var9 = days.value\n",
    "var4 = weight.value\n",
    "var5 = height.value\n",
    "var6 = age.value\n",
    "var7 = act.value\n",
    "var8 = imp.value\n",
    "var11 = sup.value\n",
    "var12 = weighting(imp.value)\n",
    "var3 = gen.value"
   ]
  },
  {
   "cell_type": "raw",
   "metadata": {},
   "source": [
    "#HIDDEN\n",
    "runcode2 = widgets.Button(description='Calculate Diet')\n",
    "output2 = widgets.Output()\n",
    "#display(runcode,output)\n",
    "def person_diets(b):\n",
    "    global r1,r2,r3,r4,r5\n",
    "    %run Optimization_Tool_Online.ipynb\n",
    "    r1,r2,r3,r4,r5 = testopt(dataframe,var8,'yes',var3,var4,var5,var6,var7,\\\n",
    "                             var1.value,var2.value,var9,var10,2,var11,var12,0,0)\n",
    "    with output: \n",
    "        print('Optimizing your diet')\n",
    "        #display(df100)\n",
    "    return "
   ]
  },
  {
   "cell_type": "markdown",
   "metadata": {},
   "source": [
    "display(runcode2,output2)\n",
    "runcode2.on_click(person_diets)"
   ]
  }
 ],
 "metadata": {
  "kernelspec": {
   "display_name": "Python [conda env:new_environment]",
   "language": "python",
   "name": "conda-env-new_environment-py"
  },
  "language_info": {
   "codemirror_mode": {
    "name": "ipython",
    "version": 3
   },
   "file_extension": ".py",
   "mimetype": "text/x-python",
   "name": "python",
   "nbconvert_exporter": "python",
   "pygments_lexer": "ipython3",
   "version": "3.6.4"
  }
 },
 "nbformat": 4,
 "nbformat_minor": 2
}
