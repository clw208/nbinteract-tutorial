{
 "cells": [
  {
   "cell_type": "code",
   "execution_count": 15,
   "metadata": {},
   "outputs": [],
   "source": [
    "#HIDDEN\n",
    "from ipywidgets import widgets, interact, Dropdown,SelectMultiple\n",
    "from IPython.display import display\n",
    "import numpy as np\n",
    "import pandas as pd\n",
    "import re\n",
    "import os\n",
    "import pickle\n",
    "# input files from other python scripts\n",
    "data_python = os.path.join('..', 'website_test')\n",
    "data_out = os.path.join('..', 'website_test')\n",
    "data_dir = os.path.join('..', 'website_test')"
   ]
  },
  {
   "cell_type": "code",
   "execution_count": 16,
   "metadata": {},
   "outputs": [],
   "source": [
    "#HIDDEN\n",
    "# choose the month for optimization\n",
    "mnths = {'jan':1,'feb':2,'mar':3,'apr':4,'may':5,'jun':6,'jul':7,'aug':8,'sep':9,'oct':10,'nov':11,'dec':12}\n",
    "cntry = np.load('trandict.npy',allow_pickle='TRUE').item()\n",
    "var2 = widgets.Dropdown(options = mnths.keys(),value='aug')\n",
    "var1 = widgets.Dropdown(options = cntry.keys(),value='CH')"
   ]
  },
  {
   "cell_type": "code",
   "execution_count": 17,
   "metadata": {},
   "outputs": [
    {
     "data": {
      "application/vnd.jupyter.widget-view+json": {
       "model_id": "b6f49233458a4d509a1ec9af133c22a1",
       "version_major": 2,
       "version_minor": 0
      },
      "text/plain": [
       "Dropdown(index=26, options=('AW', 'AO', 'AI', 'AL', 'AD', 'AR', 'AS', 'AG', 'AU', 'AT', 'BI', 'BE', 'BJ', 'BF'…"
      ]
     },
     "metadata": {},
     "output_type": "display_data"
    }
   ],
   "source": [
    "display(var1)"
   ]
  },
  {
   "cell_type": "code",
   "execution_count": 18,
   "metadata": {},
   "outputs": [
    {
     "data": {
      "application/vnd.jupyter.widget-view+json": {
       "model_id": "05ecaae95c3d498b9640abc213b7f55b",
       "version_major": 2,
       "version_minor": 0
      },
      "text/plain": [
       "Dropdown(index=7, options=('jan', 'feb', 'mar', 'apr', 'may', 'jun', 'jul', 'aug', 'sep', 'oct', 'nov', 'dec')…"
      ]
     },
     "metadata": {},
     "output_type": "display_data"
    }
   ],
   "source": [
    "display(var2)"
   ]
  },
  {
   "cell_type": "code",
   "execution_count": 26,
   "metadata": {},
   "outputs": [],
   "source": [
    "#HIDDEN\n",
    "runcode = widgets.Button(description='Build Database')\n",
    "output = widgets.Output()\n",
    "#display(runcode,output)\n",
    "def on_button_clicked(b):\n",
    "    #global dataframe\n",
    "    #%run Build_Optimization_Database.ipynb\n",
    "    %run readother.ipynb\n",
    "    #dataframe = calc_impacts(var1.value,var2.value).copy()\n",
    "    #dataframe = pd.DataFrame([0,1],columns=['a'])\n",
    "    with output: \n",
    "        print('Building the database for your country and season')\n",
    "        #display(dataframe.head(2))\n",
    "        #display(df100)\n",
    "    return #df100"
   ]
  },
  {
   "cell_type": "code",
   "execution_count": 20,
   "metadata": {
    "scrolled": true
   },
   "outputs": [
    {
     "data": {
      "application/vnd.jupyter.widget-view+json": {
       "model_id": "9414ec5def474eaba0cca71ccd741258",
       "version_major": 2,
       "version_minor": 0
      },
      "text/plain": [
       "Button(description='Build Database', style=ButtonStyle())"
      ]
     },
     "metadata": {},
     "output_type": "display_data"
    },
    {
     "data": {
      "application/vnd.jupyter.widget-view+json": {
       "model_id": "7cdc7cac1fdd4a13973b125c5f3d19a7",
       "version_major": 2,
       "version_minor": 0
      },
      "text/plain": [
       "Output()"
      ]
     },
     "metadata": {},
     "output_type": "display_data"
    }
   ],
   "source": [
    "display(runcode,output)\n",
    "runcode.on_click(on_button_clicked)"
   ]
  },
  {
   "cell_type": "code",
   "execution_count": 21,
   "metadata": {},
   "outputs": [],
   "source": [
    "# HIDDEN\n",
    "style = {'description_width': 'initial'}"
   ]
  },
  {
   "cell_type": "code",
   "execution_count": 8,
   "metadata": {},
   "outputs": [],
   "source": [
    "# HIDDEN\n",
    "# variables to support the interactive dropdowns below\n",
    "gender={'female':1,'male':0}\n",
    "preferences = {'vegetarian':0,'vegan':1,'none':2}\n",
    "indicator = {'climate change':'GHG','biodiversity loss':'BIO','both':'any'}\n",
    "activity = {'sedentary':0,'moderate':1,'vigorous':2}\n",
    "supp = {'yes':'yes_sup','no':'no_sup'}\n",
    "weighting = {'climate change':0,'biodiversity loss':0,'both':0.5}\n",
    "def weighting(impact):\n",
    "    if impact == 'GHG' or 'BIO': w = 0\n",
    "    elif impact == 'both':w = 0.5\n",
    "    else: w = 0\n",
    "    return w"
   ]
  },
  {
   "cell_type": "code",
   "execution_count": 22,
   "metadata": {},
   "outputs": [],
   "source": [
    "# HIDDEN\n",
    "imp = widgets.Dropdown(options=indicator.values(),description='Impact')\n",
    "gen = widgets.Dropdown(options=gender.values(),description='Gender:')\n",
    "weight = widgets.IntText(description='Weight (kg):',value=60)\n",
    "height = widgets.IntText(description='Height (cm):',value=165)\n",
    "age = widgets.IntText(description='Age (yrs):',value=40)\n",
    "act = widgets.Dropdown(options=activity.keys(),description='Activity Level:',value='moderate')\n",
    "sup = widgets.Dropdown(options=supp.values(),description='Supplements?',style=style)\n",
    "days = widgets.BoundedIntText(description='Number of Days:',style=style,value=7)\n",
    "diettype = widgets.Dropdown(options=preferences.keys(),description='Dietary Preferences:',style=style,value='none')"
   ]
  },
  {
   "cell_type": "code",
   "execution_count": 23,
   "metadata": {},
   "outputs": [
    {
     "data": {
      "application/vnd.jupyter.widget-view+json": {
       "model_id": "ca2d249a211d4a6ba004f0402b8afd51",
       "version_major": 2,
       "version_minor": 0
      },
      "text/plain": [
       "Dropdown(description='Impact', options=('GHG', 'BIO', 'any'), value='GHG')"
      ]
     },
     "metadata": {},
     "output_type": "display_data"
    },
    {
     "data": {
      "application/vnd.jupyter.widget-view+json": {
       "model_id": "a64f30234e5d4770822ffe86ffb3b3b7",
       "version_major": 2,
       "version_minor": 0
      },
      "text/plain": [
       "Dropdown(description='Gender:', options=(1, 0), value=1)"
      ]
     },
     "metadata": {},
     "output_type": "display_data"
    },
    {
     "data": {
      "application/vnd.jupyter.widget-view+json": {
       "model_id": "2da2e2ef99a044c592bab38caa8497c0",
       "version_major": 2,
       "version_minor": 0
      },
      "text/plain": [
       "IntText(value=60, description='Weight (kg):')"
      ]
     },
     "metadata": {},
     "output_type": "display_data"
    },
    {
     "data": {
      "application/vnd.jupyter.widget-view+json": {
       "model_id": "e5cc9836876c46458b4ec67cbd1ebad8",
       "version_major": 2,
       "version_minor": 0
      },
      "text/plain": [
       "IntText(value=165, description='Height (cm):')"
      ]
     },
     "metadata": {},
     "output_type": "display_data"
    },
    {
     "data": {
      "application/vnd.jupyter.widget-view+json": {
       "model_id": "6e46e92772934025af5960c810a1dc08",
       "version_major": 2,
       "version_minor": 0
      },
      "text/plain": [
       "IntText(value=40, description='Age (yrs):')"
      ]
     },
     "metadata": {},
     "output_type": "display_data"
    },
    {
     "data": {
      "application/vnd.jupyter.widget-view+json": {
       "model_id": "efa8890ee3094b02b2b65c278b525fed",
       "version_major": 2,
       "version_minor": 0
      },
      "text/plain": [
       "Dropdown(description='Activity Level:', index=1, options=('sedentary', 'moderate', 'vigorous'), value='moderat…"
      ]
     },
     "metadata": {},
     "output_type": "display_data"
    },
    {
     "data": {
      "application/vnd.jupyter.widget-view+json": {
       "model_id": "f1bdebb3da144f359958e9948e0dc87e",
       "version_major": 2,
       "version_minor": 0
      },
      "text/plain": [
       "Dropdown(description='Supplements?', options=('yes_sup', 'no_sup'), style=DescriptionStyle(description_width='…"
      ]
     },
     "metadata": {},
     "output_type": "display_data"
    },
    {
     "data": {
      "application/vnd.jupyter.widget-view+json": {
       "model_id": "85217c9b25714054827d6e15e1999956",
       "version_major": 2,
       "version_minor": 0
      },
      "text/plain": [
       "BoundedIntText(value=7, description='Number of Days:', style=DescriptionStyle(description_width='initial'))"
      ]
     },
     "metadata": {},
     "output_type": "display_data"
    },
    {
     "data": {
      "application/vnd.jupyter.widget-view+json": {
       "model_id": "5f82dce463984b858afeffd48d1efae6",
       "version_major": 2,
       "version_minor": 0
      },
      "text/plain": [
       "Dropdown(description='Dietary Preferences:', index=2, options=('vegetarian', 'vegan', 'none'), style=Descripti…"
      ]
     },
     "metadata": {},
     "output_type": "display_data"
    }
   ],
   "source": [
    "display(imp)\n",
    "display(gen)\n",
    "display(weight)\n",
    "display(height)\n",
    "display(age)\n",
    "display(act)\n",
    "display(sup)\n",
    "display(days)\n",
    "display(diettype)"
   ]
  },
  {
   "cell_type": "code",
   "execution_count": 24,
   "metadata": {},
   "outputs": [],
   "source": [
    "# HIDDEN\n",
    "var10 = diettype.value\n",
    "var9 = days.value\n",
    "var4 = weight.value\n",
    "var5 = height.value\n",
    "var6 = age.value\n",
    "var7 = act.value\n",
    "var8 = imp.value\n",
    "var11 = sup.value\n",
    "var12 = weighting(imp.value)\n",
    "var3 = gen.value"
   ]
  },
  {
   "cell_type": "code",
   "execution_count": 25,
   "metadata": {},
   "outputs": [],
   "source": [
    "#HIDDEN\n",
    "runcode2 = widgets.Button(description='Calculate Diet')\n",
    "output2 = widgets.Output()\n",
    "#display(runcode,output)\n",
    "def person_diets(b):\n",
    "    global r1,r2,r3,r4,r5\n",
    "    %run Optimization_Tool_Online.ipynb\n",
    "    r1,r2,r3,r4,r5 = testopt(dataframe,var8,'yes',var3,var4,var5,var6,var7,\\\n",
    "                             var1.value,var2.value,var9,var10,2,var11,var12,0,0)\n",
    "    with output: \n",
    "        print('Optimizing your diet')\n",
    "        #display(df100)\n",
    "    return "
   ]
  },
  {
   "cell_type": "code",
   "execution_count": 13,
   "metadata": {},
   "outputs": [
    {
     "data": {
      "application/vnd.jupyter.widget-view+json": {
       "model_id": "d38f1694491a4929aa685d16c64d061d",
       "version_major": 2,
       "version_minor": 0
      },
      "text/plain": [
       "Button(description='Calculate Diet', style=ButtonStyle())"
      ]
     },
     "metadata": {},
     "output_type": "display_data"
    },
    {
     "data": {
      "application/vnd.jupyter.widget-view+json": {
       "model_id": "b1d6b35d36134bc5a48743a65ff3bce6",
       "version_major": 2,
       "version_minor": 0
      },
      "text/plain": [
       "Output()"
      ]
     },
     "metadata": {},
     "output_type": "display_data"
    },
    {
     "name": "stdout",
     "output_type": "stream",
     "text": [
      "Total Impacts per person =  1366.9159514606386\n",
      "Status: Infeasible\n"
     ]
    }
   ],
   "source": [
    "display(runcode2,output2)\n",
    "runcode2.on_click(person_diets)"
   ]
  }
 ],
 "metadata": {
  "kernelspec": {
   "display_name": "Python [conda env:new_environment]",
   "language": "python",
   "name": "conda-env-new_environment-py"
  },
  "language_info": {
   "codemirror_mode": {
    "name": "ipython",
    "version": 3
   },
   "file_extension": ".py",
   "mimetype": "text/x-python",
   "name": "python",
   "nbconvert_exporter": "python",
   "pygments_lexer": "ipython3",
   "version": "3.6.4"
  }
 },
 "nbformat": 4,
 "nbformat_minor": 2
}
